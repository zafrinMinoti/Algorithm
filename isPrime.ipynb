{
 "cells": [
  {
   "cell_type": "markdown",
   "metadata": {},
   "source": [
    "# Algorithms: Determine if a Number is Prime"
   ]
  },
  {
   "cell_type": "markdown",
   "metadata": {},
   "source": [
    "### Mathmatical Defination\n",
    "A prime number is a whole number greater than 1 (not including 1) that is only divisible by 1 and itself.\n",
    "* 0 is not a prime number\n",
    "* 1 is not a prime number\n",
    "* 2 is the only even prime number\n",
    "* There are infinite prime numbers\n",
    "\n",
    "### Problem with computation\n",
    "As N, the number given, increases, the necsecery cimputation gets large, so does the computation power. \n",
    "\n",
    "### Purpose of this document\n",
    "The document will start with the very basic way of determining if a number is prime. Then it improves ways to reduce the overall computational power by making changes to the initial algorithm."
   ]
  },
  {
   "cell_type": "code",
   "execution_count": 1,
   "metadata": {
    "collapsed": true
   },
   "outputs": [],
   "source": [
    "from math import sqrt, ceil\n",
    "from time import time, monotonic\n",
    "from timeit import timeit"
   ]
  },
  {
   "cell_type": "code",
   "execution_count": 2,
   "metadata": {},
   "outputs": [],
   "source": [
    "def getNumber():\n",
    "    num = input('Enter a number and find out it it\\'s a prime: ')\n",
    "    return num\n",
    "\n",
    "def Factorials(num):\n",
    "    factors = ({n for n in range(2,num) if N % n == 0})\n",
    "    return 'NOT FOUND' if len(factors) < 1 else factors\n",
    "\n",
    "def primeOrNot():\n",
    "    prime = '{} is Prime'.format(N) if isPrime(N) else '{} is not a prime'.format(N)\n",
    "    return prime\n",
    "\n",
    "def isPrime_computation_result():\n",
    "    t0 = time()\n",
    "    print('Number: {0}{1:<27}{2}'.format(N, '\\nThe number is prime:', isPrime(N)))\n",
    "    t1 = time()\n",
    "    print('{0:<26}{1:.40f}'.format('Time:', t1-t0))\n",
    "    \n",
    "def computation_time():\n",
    "    t0 = time()\n",
    "    isPrime(N)\n",
    "    t1 = time()\n",
    "    print('{0:.40f}'.format(t1-t0))"
   ]
  },
  {
   "cell_type": "code",
   "execution_count": 3,
   "metadata": {},
   "outputs": [],
   "source": [
    "#N = int(getNumber())\n",
    "N = 807972831"
   ]
  },
  {
   "cell_type": "markdown",
   "metadata": {},
   "source": [
    "## The very basic (brute force) approach"
   ]
  },
  {
   "cell_type": "code",
   "execution_count": 4,
   "metadata": {},
   "outputs": [],
   "source": [
    "def isPrime(num):\n",
    "    prime = False\n",
    "    \n",
    "    if num <= 1:\n",
    "        prime = False\n",
    "    elif num == 2:\n",
    "        prime = True\n",
    "    \n",
    "    elif num > 2:\n",
    "        for n in range(2,num):\n",
    "            if num % n == 0:\n",
    "                prime = False\n",
    "                break\n",
    "            else:\n",
    "                prime = True\n",
    "    return prime"
   ]
  },
  {
   "cell_type": "code",
   "execution_count": 5,
   "metadata": {},
   "outputs": [
    {
     "name": "stdout",
     "output_type": "stream",
     "text": [
      "Number: 807972831\n",
      "The number is prime:      False\n",
      "Time:                     0.0000000000000000000000000000000000000000\n"
     ]
    }
   ],
   "source": [
    "isPrime_computation_result()"
   ]
  },
  {
   "cell_type": "code",
   "execution_count": 6,
   "metadata": {},
   "outputs": [
    {
     "data": {
      "text/plain": [
       "False"
      ]
     },
     "execution_count": 6,
     "metadata": {},
     "output_type": "execute_result"
    }
   ],
   "source": [
    "isPrime(N)"
   ]
  },
  {
   "cell_type": "code",
   "execution_count": 7,
   "metadata": {},
   "outputs": [
    {
     "name": "stdout",
     "output_type": "stream",
     "text": [
      "0.0000000000000000000000000000000000000000\n"
     ]
    }
   ],
   "source": [
    "computation_time()"
   ]
  },
  {
   "cell_type": "code",
   "execution_count": null,
   "metadata": {},
   "outputs": [],
   "source": [
    "Factorials(N)"
   ]
  },
  {
   "cell_type": "markdown",
   "metadata": {},
   "source": [
    "## Filtering even numbers\n",
    "Get rid of half of possible numbers by filtering out even numbers"
   ]
  },
  {
   "cell_type": "code",
   "execution_count": 8,
   "metadata": {},
   "outputs": [],
   "source": [
    "def isPrime(num):\n",
    "    prime = False\n",
    "    \n",
    "    if num <= 1:\n",
    "        prime = False\n",
    "    elif num == 2:\n",
    "        prime = True\n",
    "        \n",
    "    elif num > 2:\n",
    "        if num % 2 == 0:\n",
    "            prime = False\n",
    "\n",
    "        else:\n",
    "            for n in range(3,num,2):\n",
    "                if num % n == 0:\n",
    "                    prime = False\n",
    "                    break\n",
    "                else:\n",
    "                    prime = True\n",
    "    return prime"
   ]
  },
  {
   "cell_type": "code",
   "execution_count": 9,
   "metadata": {},
   "outputs": [
    {
     "name": "stdout",
     "output_type": "stream",
     "text": [
      "Number: 807972831\n",
      "The number is prime:      False\n",
      "Time:                     0.0000000000000000000000000000000000000000\n"
     ]
    }
   ],
   "source": [
    "isPrime_computation_result()"
   ]
  },
  {
   "cell_type": "code",
   "execution_count": null,
   "metadata": {},
   "outputs": [],
   "source": [
    "Factorials(N)"
   ]
  },
  {
   "cell_type": "markdown",
   "metadata": {},
   "source": [
    "## Reduction by half\n",
    "Check only up to n/2"
   ]
  },
  {
   "cell_type": "code",
   "execution_count": 10,
   "metadata": {},
   "outputs": [],
   "source": [
    "def isPrime(num):\n",
    "    prime = False\n",
    "    midpoint = num//2\n",
    "\n",
    "    if num == 2:\n",
    "        prime = True\n",
    "    elif num > 2:\n",
    "        if num % 2 == 0:\n",
    "            prime = False\n",
    "\n",
    "        elif num > 8:\n",
    "            for n in range(3,midpoint+1,2):\n",
    "                if num % n == 0:\n",
    "                    prime = False\n",
    "                    break\n",
    "                else:\n",
    "                    prime = True\n",
    "        else:\n",
    "            prime = True\n",
    "    return prime"
   ]
  },
  {
   "cell_type": "code",
   "execution_count": 11,
   "metadata": {},
   "outputs": [
    {
     "name": "stdout",
     "output_type": "stream",
     "text": [
      "Number: 807972831\n",
      "The number is prime:      False\n",
      "Time:                     0.0000000000000000000000000000000000000000\n"
     ]
    }
   ],
   "source": [
    "isPrime_computation_result()"
   ]
  },
  {
   "cell_type": "code",
   "execution_count": null,
   "metadata": {},
   "outputs": [],
   "source": [
    "Factorials(N)"
   ]
  },
  {
   "cell_type": "markdown",
   "metadata": {},
   "source": [
    "## Reduction by square root\n",
    "Check only up to square root of n"
   ]
  },
  {
   "cell_type": "code",
   "execution_count": 12,
   "metadata": {
    "collapsed": true
   },
   "outputs": [],
   "source": [
    "def isPrime(num):\n",
    "    prime = False\n",
    "    num_sqrt = ceil(sqrt(num))\n",
    "\n",
    "    if num == 2:\n",
    "        prime = True\n",
    "    elif num > 2:\n",
    "        if num % 2 == 0:\n",
    "            prime = False\n",
    "\n",
    "        elif num > 8:\n",
    "            for n in range(3,num_sqrt+1,2):\n",
    "                if num % n == 0:\n",
    "                    prime = False\n",
    "                    break\n",
    "                else:\n",
    "                    prime = True\n",
    "        else:\n",
    "            prime = True\n",
    "    return prime"
   ]
  },
  {
   "cell_type": "code",
   "execution_count": 13,
   "metadata": {},
   "outputs": [
    {
     "name": "stdout",
     "output_type": "stream",
     "text": [
      "Number: 807972831\n",
      "The number is prime:      False\n",
      "Time:                     0.0005016326904296875000000000000000000000\n"
     ]
    }
   ],
   "source": [
    "isPrime_computation_result()"
   ]
  },
  {
   "cell_type": "code",
   "execution_count": null,
   "metadata": {},
   "outputs": [],
   "source": [
    "Factorials(N)"
   ]
  }
 ],
 "metadata": {
  "kernelspec": {
   "display_name": "Python 3",
   "language": "python",
   "name": "python3"
  },
  "language_info": {
   "codemirror_mode": {
    "name": "ipython",
    "version": 3
   },
   "file_extension": ".py",
   "mimetype": "text/x-python",
   "name": "python",
   "nbconvert_exporter": "python",
   "pygments_lexer": "ipython3",
   "version": "3.6.3"
  }
 },
 "nbformat": 4,
 "nbformat_minor": 2
}
